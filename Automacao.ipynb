{
 "cells": [
  {
   "cell_type": "markdown",
   "id": "aaffdb23",
   "metadata": {},
   "source": [
    "# Automação de Sistemas e Processos com Python\n",
    "\n",
    "### Desafio:\n",
    "\n",
    "Para controle de custos, todos os dias, seu chefe pede um relatório com todas as compras de mercadorias da empresa.\n",
    "O seu trabalho, como analista, é enviar um e-mail para ele, assim que começar a trabalhar, com o total gasto, a quantidade de produtos compradas e o preço médio dos produtos.\n",
    "\n",
    "E-mail do seu chefe: para o nosso exercício, coloque um e-mail seu como sendo o e-mail do seu chefe<br>\n",
    "Link de acesso ao sistema da empresa: https://pages.hashtagtreinamentos.com/aula1-intensivao-sistema\n",
    "\n",
    "Para resolver isso, vamos usar o pyautogui, uma biblioteca de automação de comandos do mouse e do teclado"
   ]
  },
  {
   "cell_type": "code",
   "execution_count": 61,
   "id": "e8d2a494",
   "metadata": {},
   "outputs": [],
   "source": [
    "import pyautogui\n",
    "import time\n",
    "\n",
    "# pyautogui.click  -> clicar com o mouse\n",
    "# pyautogui.write  -> escrever um texto\n",
    "# pyautogui.press  -> apertar uma tecla\n",
    "# pyautogui.hotkey -> apertar uma combinação de teclas\n",
    "\n",
    "# Define a constante PAUSE como 1, para a cada comando esperar um segundo\n",
    "pyautogui.PAUSE = 1\n",
    "\n",
    "# Passo 1: Acessar o sistema da empresa\n",
    "\n",
    "# Abre uma nova aba\n",
    "pyautogui.hotkey(\"ctrl\", \"t\")\n",
    "\n",
    "# Escreve o endereço do site\n",
    "pyautogui.write(\"https://pages.hashtagtreinamentos.com/aula1-intensivao-sistema\")\n",
    "\n",
    "# Aperta a tecla Enter\n",
    "pyautogui.press(\"enter\")\n",
    "\n",
    "# Espera 5 segundos pro site carregar\n",
    "time.sleep(5)\n"
   ]
  },
  {
   "cell_type": "code",
   "execution_count": 62,
   "id": "6e4c6e18",
   "metadata": {},
   "outputs": [
    {
     "ename": "KeyboardInterrupt",
     "evalue": "",
     "output_type": "error",
     "traceback": [
      "\u001b[1;31m---------------------------------------------------------------------------\u001b[0m",
      "\u001b[1;31mKeyboardInterrupt\u001b[0m                         Traceback (most recent call last)",
      "Cell \u001b[1;32mIn[62], line 19\u001b[0m\n\u001b[0;32m     16\u001b[0m pyautogui\u001b[38;5;241m.\u001b[39mclick(x\u001b[38;5;241m=\u001b[39m\u001b[38;5;241m977\u001b[39m, y\u001b[38;5;241m=\u001b[39m\u001b[38;5;241m523\u001b[39m)\n\u001b[0;32m     18\u001b[0m \u001b[38;5;66;03m# Espera o site carregar\u001b[39;00m\n\u001b[1;32m---> 19\u001b[0m \u001b[43mtime\u001b[49m\u001b[38;5;241;43m.\u001b[39;49m\u001b[43msleep\u001b[49m\u001b[43m(\u001b[49m\u001b[38;5;241;43m5\u001b[39;49m\u001b[43m)\u001b[49m\n",
      "\u001b[1;31mKeyboardInterrupt\u001b[0m: "
     ]
    }
   ],
   "source": [
    "# Passo 2: Fazer login no sistema\n",
    "\n",
    "# Clica no campo de login\n",
    "pyautogui.click(x=1001, y=377)\n",
    "\n",
    "# Digita o login\n",
    "pyautogui.write(\"Marcos\")\n",
    "\n",
    "# Clica no campo de senha\n",
    "pyautogui.click(x=826, y=456)\n",
    "\n",
    "# Digita a senha\n",
    "pyautogui.write(\"123456\")\n",
    "\n",
    "# Clica no botão de acessar\n",
    "pyautogui.click(x=977, y=523)\n",
    "\n",
    "# Espera o site carregar\n",
    "time.sleep(5)\n"
   ]
  },
  {
   "cell_type": "code",
   "execution_count": null,
   "id": "5aa1be97",
   "metadata": {},
   "outputs": [],
   "source": [
    "# Passo 3: Baixar a base de dados\n",
    "\n",
    "# Seleciona o arquivo\n",
    "pyautogui.click(x=355, y=400)\n",
    "\n",
    "# Clica em fazer o download\n",
    "pyautogui.click(x=503, y=204)\n",
    "\n",
    "# Espera a janela de download\n",
    "time.sleep(5)\n",
    "\n",
    "# Aceita o download\n",
    "pyautogui.click(x=1376, y=834)\n",
    "\n",
    "# Espera fazer o download\n",
    "time.sleep(5)\n"
   ]
  },
  {
   "cell_type": "code",
   "execution_count": null,
   "id": "d963cc32",
   "metadata": {},
   "outputs": [],
   "source": [
    "# Passo 4: Calcular os indicadores\n",
    "\n",
    "import pandas as pd\n",
    "\n",
    "# Importa a base de dados\n",
    "tabela = pd.read_csv(r\"C:\\Users\\marco\\OneDrive\\Documentos\\Python Estudos\\Compras.csv\", sep=\";\")\n",
    "display(tabela)\n",
    "\n",
    "# Cálculo dos indicadores\n",
    "\n",
    "# ~total gasto\n",
    "total_gasto = tabela[\"ValorFinal\"].sum()\n",
    "\n",
    "# ~quantidade\n",
    "quantidade = tabela[\"Quantidade\"].sum()\n",
    "\n",
    "# ~preço médio\n",
    "preco_medio = total_gasto / quantidade\n",
    "\n",
    "print(total_gasto)\n",
    "print(quantidade)\n",
    "print(preco_medio)\n"
   ]
  },
  {
   "cell_type": "code",
   "execution_count": null,
   "id": "86cc68d1",
   "metadata": {},
   "outputs": [],
   "source": [
    "# Passo 5: Enviar o email para a diretoria/chefe\n",
    "\n",
    "import pyperclip # Biblioteca para copiar o texto com acentuação \n",
    "\n",
    "# Entrar no email: https://mail.google.com/mail/u/0/#inbox\n",
    "pyautogui.hotkey(\"ctrl\", \"t\")\n",
    "pyautogui.write(\"https://mail.google.com/mail/u/0/#inbox\")\n",
    "pyautogui.press(\"enter\")\n",
    "\n",
    "time.sleep(5)\n",
    "\n",
    "# Clicac no botão escrever\n",
    "pyautogui.click(x=148, y=199)\n",
    "\n",
    "# Preenche as informações do email\n",
    "# Destinatário\n",
    "pyautogui.write(\"pythonimpressionador@gmail.com\")\n",
    "\n",
    "# Confirma o destinatario\n",
    "pyautogui.press(\"tab\") \n",
    "\n",
    "# Passa para o campo assunto\n",
    "pyautogui.press(\"tab\") \n",
    "\n",
    "# Copia o texto para a área de tranferência\n",
    "pyperclip.copy(\"Relatório de Vendas\")\n",
    "pyautogui.hotkey(\"ctrl\", \"v\")\n",
    "\n",
    "pyautogui.press(\"tab\") # Passa para o corpo do email\n",
    "\n",
    "texto = f\"\"\"\n",
    "Prezados,\n",
    "Segue o relatório de compras\n",
    "\n",
    "Total Gasto: R${total_gasto:,.2f}\n",
    "Quantidade de Produtos: {quantidade:,}\n",
    "Preço Médio: R${preco_medio:,.2f}\n",
    "\n",
    "Qualquer dúvida, é só falar.\n",
    "\n",
    "Att.\n",
    "\n",
    "Marcos Adriano\n",
    "\"\"\"\n",
    "\n",
    "# Copia o texto para a área de tranferência\n",
    "pyperclip.copy(texto)\n",
    "\n",
    "# Cola o texto no corpo do email\n",
    "pyautogui.hotkey(\"ctrl\", \"v\")\n",
    "\n",
    "# Envia\n",
    "pyautogui.hotkey(\"ctrl\", \"enter\")\n"
   ]
  },
  {
   "cell_type": "code",
   "execution_count": null,
   "id": "d2c9e37e",
   "metadata": {},
   "outputs": [],
   "source": [
    "#!pip install pyautogui"
   ]
  },
  {
   "cell_type": "code",
   "execution_count": null,
   "id": "9db65eef",
   "metadata": {},
   "outputs": [],
   "source": [
    "time.sleep(5)\n",
    "print(pyautogui.position())"
   ]
  },
  {
   "cell_type": "code",
   "execution_count": null,
   "id": "965e7114",
   "metadata": {},
   "outputs": [],
   "source": []
  },
  {
   "cell_type": "code",
   "execution_count": null,
   "id": "d13010f3",
   "metadata": {},
   "outputs": [],
   "source": []
  }
 ],
 "metadata": {
  "kernelspec": {
   "display_name": "Python 3 (ipykernel)",
   "language": "python",
   "name": "python3"
  },
  "language_info": {
   "codemirror_mode": {
    "name": "ipython",
    "version": 3
   },
   "file_extension": ".py",
   "mimetype": "text/x-python",
   "name": "python",
   "nbconvert_exporter": "python",
   "pygments_lexer": "ipython3",
   "version": "3.10.9"
  }
 },
 "nbformat": 4,
 "nbformat_minor": 5
}
